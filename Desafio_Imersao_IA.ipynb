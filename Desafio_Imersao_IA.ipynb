{
  "nbformat": 4,
  "nbformat_minor": 0,
  "metadata": {
    "colab": {
      "provenance": [],
      "authorship_tag": "ABX9TyPDpT4WqojJeJQE56qlIO9q",
      "include_colab_link": true
    },
    "kernelspec": {
      "name": "python3",
      "display_name": "Python 3"
    },
    "language_info": {
      "name": "python"
    }
  },
  "cells": [
    {
      "cell_type": "markdown",
      "metadata": {
        "id": "view-in-github",
        "colab_type": "text"
      },
      "source": [
        "<a href=\"https://colab.research.google.com/github/EduardoSpace/Desafio_Imersao_IA/blob/main/Desafio_Imersao_IA.ipynb\" target=\"_parent\"><img src=\"https://colab.research.google.com/assets/colab-badge.svg\" alt=\"Open In Colab\"/></a>"
      ]
    },
    {
      "cell_type": "markdown",
      "source": [],
      "metadata": {
        "id": "b1X1rueHXR-h"
      }
    },
    {
      "cell_type": "code",
      "source": [],
      "metadata": {
        "id": "XUkxdU2PYaUd"
      },
      "execution_count": null,
      "outputs": []
    },
    {
      "cell_type": "markdown",
      "source": [
        "Instalando o SDK"
      ],
      "metadata": {
        "id": "yZE3NViPXTOn"
      }
    },
    {
      "cell_type": "markdown",
      "source": [],
      "metadata": {
        "id": "HyKkR8c9YZ_G"
      }
    },
    {
      "cell_type": "code",
      "execution_count": 1,
      "metadata": {
        "id": "Yw9ZdYoxXJSl"
      },
      "outputs": [],
      "source": [
        "!pip install -q -U google-generativeai"
      ]
    },
    {
      "cell_type": "markdown",
      "source": [
        "Configurações iniciais"
      ],
      "metadata": {
        "id": "ObFiSJgqYFg2"
      }
    },
    {
      "cell_type": "code",
      "source": [
        "#Configurações iniciais\n",
        "import google.generativeai as genai\n",
        "from google.colab import userdata\n",
        "api_key = userdata.get('secret_key')\n",
        "genai.configure(api_key=api_key)"
      ],
      "metadata": {
        "id": "8SO-yzceYHQY"
      },
      "execution_count": 5,
      "outputs": []
    }
  ]
}